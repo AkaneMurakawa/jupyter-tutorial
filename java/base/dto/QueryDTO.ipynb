{
 "cells": [
  {
   "cell_type": "code",
   "execution_count": 2,
   "id": "76ae58cf-8730-4dff-9273-98ddf94eb9a5",
   "metadata": {
    "execution": {
     "iopub.execute_input": "2023-07-20T09:26+0000",
     "iopub.status.busy": "2023-07-20T09:26+0000",
     "iopub.status.idle": "2023-07-20T09:26+0000",
     "shell.execute_reply": "2023-07-20T09:26+0000"
    }
   },
   "outputs": [],
   "source": [
    "/**\n",
    " * 查询条件\n",
    " */\n",
    "public class QueryDTO {\n",
    "\n",
    "    public Integer status;\n",
    "\n",
    "    @Override\n",
    "    public String toString() {\n",
    "        return \"QueryDTO{\" +\n",
    "                \"status=\" + status +\n",
    "                '}';\n",
    "    }\n",
    "}"
   ]
  }
 ],
 "metadata": {
  "kernelspec": {
   "display_name": "Java",
   "language": "java",
   "name": "java"
  },
  "language_info": {
   "codemirror_mode": "java",
   "file_extension": ".jshell",
   "mimetype": "text/x-java-source",
   "name": "Java",
   "pygments_lexer": "java",
   "version": "17.0.7+7-Ubuntu-0ubuntu122.04.2"
  }
 },
 "nbformat": 4,
 "nbformat_minor": 5
}
