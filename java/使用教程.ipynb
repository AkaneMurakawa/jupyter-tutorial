{
 "cells": [
  {
   "cell_type": "markdown",
   "id": "a75b41a2-b219-49ed-8117-9701a4ec6ab6",
   "metadata": {
    "execution": {
     "iopub.execute_input": "2023-07-20T08:39+0000",
     "iopub.status.busy": "2023-07-20T08:39+0000",
     "iopub.status.idle": "2023-07-20T08:39+0000",
     "shell.execute_reply": "2023-07-20T08:39+0000"
    }
   },
   "source": [
    "## 使用教程\n",
    "[https://github.com/SpencerPark/IJava](https://github.com/SpencerPark/IJava)\n",
    "\n",
    "- 按TAB键代码补全\n",
    "- 按Shift + TAB键显示方法"
   ]
  },
  {
   "cell_type": "markdown",
   "id": "ffc4866b-bbe4-4102-b339-b742a9601d61",
   "metadata": {},
   "source": [
    "## \"Hello World\" in Java"
   ]
  },
  {
   "cell_type": "code",
   "execution_count": 87,
   "id": "bf734669-37e7-4464-bbdf-243586a1c022",
   "metadata": {
    "execution": {
     "iopub.execute_input": "2023-07-20T09:30+0000",
     "iopub.status.busy": "2023-07-20T09:30+0000",
     "iopub.status.idle": "2023-07-20T09:30+0000",
     "shell.execute_reply": "2023-07-20T09:30+0000"
    }
   },
   "outputs": [
    {
     "name": "stdout",
     "output_type": "stream",
     "text": [
      "Hello World\n"
     ]
    }
   ],
   "source": [
    "System.out.println(\"Hello World\");"
   ]
  },
  {
   "cell_type": "markdown",
   "id": "ebc09d8e-50f5-482c-953a-8448e97f94fc",
   "metadata": {},
   "source": [
    "## 引入maven包\n",
    "通过 %maven 引入包，xchart 是一个轻质、高效的Java绘图"
   ]
  },
  {
   "cell_type": "code",
   "execution_count": 88,
   "id": "f389c338-a31d-47c4-a261-140673f9376f",
   "metadata": {
    "execution": {
     "iopub.execute_input": "2023-07-20T09:30+0000",
     "iopub.status.busy": "2023-07-20T09:30+0000",
     "iopub.status.idle": "2023-07-20T09:30+0000",
     "shell.execute_reply": "2023-07-20T09:30+0000"
    }
   },
   "outputs": [
    {
     "data": {
      "image/png": "[encoded data removed]",
      "text/plain": [
       "BufferedImage@510ccb34: type = 1 DirectColorModel: rmask=ff0000 gmask=ff00 bmask=ff amask=0 IntegerInterleavedRaster: width = 600 height = 400 #Bands = 3 xOff = 0 yOff = 0 dataOffset[0] 0"
      ]
     },
     "execution_count": 88,
     "metadata": {},
     "output_type": "execute_result"
    }
   ],
   "source": [
    "%maven org.knowm.xchart:xchart:3.5.2\n",
    "    \n",
    "import org.knowm.xchart.*;\n",
    " \n",
    "int n = 100;\n",
    "double[] xData = new double[n];\n",
    "double[] yData = new double[n];\n",
    "for(int i=0; i<n; i++){\n",
    "    xData[i] = i * 0.1;\n",
    "    yData[i] = Math.sin(xData[i]);\n",
    "}\n",
    " \n",
    "XYChart chart = QuickChart.getChart(\"Sample Chart\",\"X\",\"Y\",\"y(x)\", xData, yData);\n",
    "\n",
    "BitmapEncoder.getBufferedImage(chart);"
   ]
  },
  {
   "cell_type": "markdown",
   "id": "8f1151bf-b8d6-4d54-a1cd-56f780ec0ad1",
   "metadata": {},
   "source": [
    "## 引入maven pom文件\n",
    "通过 %%loadFromPOM 引入包"
   ]
  },
  {
   "cell_type": "code",
   "execution_count": 89,
   "id": "f68d4ce3-b8e1-4cf6-84fa-e38870ffe195",
   "metadata": {
    "execution": {
     "iopub.execute_input": "2023-07-20T09:30+0000",
     "iopub.status.busy": "2023-07-20T09:30+0000",
     "iopub.status.idle": "2023-07-20T09:30+0000",
     "shell.execute_reply": "2023-07-20T09:30+0000"
    }
   },
   "outputs": [],
   "source": [
    "%%loadFromPOM\n",
    "<dependency>\n",
    "    <groupId>org.apache.commons</groupId>\n",
    "    <artifactId>commons-math3</artifactId>\n",
    "    <version>3.5</version>\n",
    "</dependency>"
   ]
  },
  {
   "cell_type": "code",
   "execution_count": 90,
   "id": "cab4dfd0-75a1-48f7-8a8f-435686f14f8f",
   "metadata": {
    "execution": {
     "iopub.execute_input": "2023-07-20T09:30+0000",
     "iopub.status.busy": "2023-07-20T09:30+0000",
     "iopub.status.idle": "2023-07-20T09:30+0000",
     "shell.execute_reply": "2023-07-20T09:30+0000"
    }
   },
   "outputs": [
    {
     "data": {
      "text/plain": [
       "80.0"
      ]
     },
     "execution_count": 90,
     "metadata": {},
     "output_type": "execute_result"
    }
   ],
   "source": [
    "import org.apache.commons.math3.fraction.*;\n",
    "Fraction.FOUR_FIFTHS.percentageValue();"
   ]
  },
  {
   "cell_type": "markdown",
   "id": "69f77755-bfdf-4368-b1dc-618621532f56",
   "metadata": {
    "execution": {
     "iopub.execute_input": "2023-07-20T06:09+0000",
     "iopub.status.busy": "2023-07-20T06:09+0000",
     "iopub.status.idle": "2023-07-20T06:09+0000",
     "shell.execute_reply": "2023-07-20T06:09+0000"
    }
   },
   "source": [
    "## 引入本地Jar包\n",
    "通过 %jars 引入包"
   ]
  },
  {
   "cell_type": "code",
   "execution_count": 91,
   "id": "8640bc69-4495-4366-b55b-aa9c9a0a66b2",
   "metadata": {
    "execution": {
     "iopub.execute_input": "2023-07-20T09:30+0000",
     "iopub.status.busy": "2023-07-20T09:30+0000",
     "iopub.status.idle": "2023-07-20T09:30+0000",
     "shell.execute_reply": "2023-07-20T09:30+0000"
    }
   },
   "outputs": [],
   "source": [
    "%jars xchart-3.6.0.jar xchart-demo-3.6.0.jar"
   ]
  },
  {
   "cell_type": "code",
   "execution_count": 92,
   "id": "bc8a9091-e3e6-456f-ac9d-2622f9371ac7",
   "metadata": {
    "execution": {
     "iopub.execute_input": "2023-07-20T09:30+0000",
     "iopub.status.busy": "2023-07-20T09:30+0000",
     "iopub.status.idle": "2023-07-20T09:30+0000",
     "shell.execute_reply": "2023-07-20T09:30+0000"
    }
   },
   "outputs": [],
   "source": [
    "%%loadFromPOM\n",
    "<dependency>\n",
    " <groupId>org.apache.commons</groupId>\n",
    " <artifactId>commons-math3</artifactId>\n",
    " <version>3.5</version>\n",
    "</dependency>"
   ]
  },
  {
   "cell_type": "code",
   "execution_count": 93,
   "id": "ece2fd49-fabb-4aca-8051-b3fbd5b9e5a6",
   "metadata": {
    "execution": {
     "iopub.execute_input": "2023-07-20T09:30+0000",
     "iopub.status.busy": "2023-07-20T09:30+0000",
     "iopub.status.idle": "2023-07-20T09:30+0000",
     "shell.execute_reply": "2023-07-20T09:30+0000"
    }
   },
   "outputs": [
    {
     "data": {
      "text/plain": [
       "80.0"
      ]
     },
     "execution_count": 93,
     "metadata": {},
     "output_type": "execute_result"
    }
   ],
   "source": [
    "import org.apache.commons.math3.fraction.*;\n",
    "Fraction.FOUR_FIFTHS.percentageValue()"
   ]
  },
  {
   "cell_type": "code",
   "execution_count": 94,
   "id": "efb64cc6-d2bf-4b31-8ae0-126db3a99ec6",
   "metadata": {
    "execution": {
     "iopub.execute_input": "2023-07-20T09:30+0000",
     "iopub.status.busy": "2023-07-20T09:30+0000",
     "iopub.status.idle": "2023-07-20T09:30+0000",
     "shell.execute_reply": "2023-07-20T09:30+0000"
    }
   },
   "outputs": [
    {
     "data": {
      "text/plain": [
       "6"
      ]
     },
     "execution_count": 94,
     "metadata": {},
     "output_type": "execute_result"
    }
   ],
   "source": [
    "(int) eval(\"1 + 2\") + 3"
   ]
  },
  {
   "cell_type": "markdown",
   "id": "a45f85f7-1acd-4779-8d63-c9cd298d067d",
   "metadata": {},
   "source": [
    "## 引入本地文件(notebook)\n",
    "%load 加载本地文件。以%开头的代码为魔法函数，仅适用于python语言。"
   ]
  },
  {
   "cell_type": "code",
   "execution_count": 95,
   "id": "a65f5fa5-718d-4ee0-af57-78d05ba40689",
   "metadata": {
    "execution": {
     "iopub.execute_input": "2023-07-20T09:30+0000",
     "iopub.status.busy": "2023-07-20T09:30+0000",
     "iopub.status.idle": "2023-07-20T09:30+0000",
     "shell.execute_reply": "2023-07-20T09:30+0000"
    }
   },
   "outputs": [],
   "source": [
    "%load pom.ipynb\n",
    "%load base/dto/QueryDTO.ipynb\n",
    "%load tool/core/json/JsonUtils.ipynb"
   ]
  },
  {
   "cell_type": "code",
   "execution_count": 96,
   "id": "2dbea1be-ce20-401e-ad7a-c3f152f1d002",
   "metadata": {
    "execution": {
     "iopub.execute_input": "2023-07-20T09:30+0000",
     "iopub.status.busy": "2023-07-20T09:30+0000",
     "iopub.status.idle": "2023-07-20T09:30+0000",
     "shell.execute_reply": "2023-07-20T09:30+0000"
    }
   },
   "outputs": [
    {
     "name": "stdout",
     "output_type": "stream",
     "text": [
      "str to list 反序列化：QueryDTO{status=1}\n"
     ]
    }
   ],
   "source": [
    "String json = \"{\\\"status\\\":1}\";\n",
    "System.out.println(\"str to list 反序列化：\" + JsonUtils.toObject(json, QueryDTO.class));"
   ]
  },
  {
   "cell_type": "markdown",
   "id": "4c528554-7516-49ce-a986-cda96e271b09",
   "metadata": {
    "execution": {
     "iopub.execute_input": "2023-07-20T08:48+0000",
     "iopub.status.busy": "2023-07-20T08:48+0000",
     "iopub.status.idle": "2023-07-20T08:48+0000",
     "shell.execute_reply": "2023-07-20T08:48+0000"
    }
   },
   "source": [
    "## eval解释器"
   ]
  },
  {
   "cell_type": "code",
   "execution_count": 97,
   "id": "44e68d0c-7dc9-49b0-8f69-831a937287f4",
   "metadata": {
    "execution": {
     "iopub.execute_input": "2023-07-20T09:30+0000",
     "iopub.status.busy": "2023-07-20T09:30+0000",
     "iopub.status.idle": "2023-07-20T09:30+0000",
     "shell.execute_reply": "2023-07-20T09:30+0000"
    }
   },
   "outputs": [
    {
     "data": {
      "text/plain": [
       "6"
      ]
     },
     "execution_count": 97,
     "metadata": {},
     "output_type": "execute_result"
    }
   ],
   "source": [
    "(int) eval(\"1 + 2\") + 3"
   ]
  }
 ],
 "metadata": {
  "kernelspec": {
   "display_name": "Java",
   "language": "java",
   "name": "java"
  },
  "language_info": {
   "codemirror_mode": "java",
   "file_extension": ".jshell",
   "mimetype": "text/x-java-source",
   "name": "Java",
   "pygments_lexer": "java",
   "version": "17.0.7+7-Ubuntu-0ubuntu122.04.2"
  }
 },
 "nbformat": 4,
 "nbformat_minor": 5
}
