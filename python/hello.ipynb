{
 "cells": [
  {
   "cell_type": "code",
   "execution_count": 4,
   "id": "1ad1dd33-29fb-4daa-91b2-665f3d9555cd",
   "metadata": {
    "execution": {
     "iopub.execute_input": "2023-07-20T09:46:11.055233Z",
     "iopub.status.busy": "2023-07-20T09:46:11.054913Z",
     "iopub.status.idle": "2023-07-20T09:46:11.059304Z",
     "shell.execute_reply": "2023-07-20T09:46:11.058495Z",
     "shell.execute_reply.started": "2023-07-20T09:46:11.055199Z"
    }
   },
   "outputs": [],
   "source": [
    "def hello():\n",
    "    print('Hello notebook!')"
   ]
  }
 ],
 "metadata": {
  "kernelspec": {
   "display_name": "Python 3 (ipykernel)",
   "language": "python",
   "name": "python3"
  },
  "language_info": {
   "codemirror_mode": {
    "name": "ipython",
    "version": 3
   },
   "file_extension": ".py",
   "mimetype": "text/x-python",
   "name": "python",
   "nbconvert_exporter": "python",
   "pygments_lexer": "ipython3",
   "version": "3.11.4"
  }
 },
 "nbformat": 4,
 "nbformat_minor": 5
}
