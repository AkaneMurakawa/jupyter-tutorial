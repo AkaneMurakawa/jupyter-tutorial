{
 "cells": [
  {
   "cell_type": "code",
   "execution_count": 74,
   "id": "fa32058c-3791-4ade-b63f-182de73e39d9",
   "metadata": {
    "execution": {
     "iopub.execute_input": "2023-07-21T03:38:47.764753Z",
     "iopub.status.busy": "2023-07-21T03:38:47.764543Z",
     "iopub.status.idle": "2023-07-21T03:38:47.769115Z",
     "shell.execute_reply": "2023-07-21T03:38:47.768304Z",
     "shell.execute_reply.started": "2023-07-21T03:38:47.764738Z"
    }
   },
   "outputs": [
    {
     "name": "stdout",
     "output_type": "stream",
     "text": [
      "1689910727.7660267\n",
      "1689903092.0\n",
      "7635.766026735306\n"
     ]
    }
   ],
   "source": [
    "\"\"\"\n",
    "    测试时间转时间戳\n",
    "\"\"\"\n",
    "from datetime import datetime\n",
    "\n",
    "created_at = 'Fri Jul 21 09:31:32 +0800 2023'\n",
    "timestamp = datetime.strptime(created_at, '%a %b %d %H:%M:%S %z %Y').timestamp()\n",
    "now = time.time()\n",
    "# 当前时间\n",
    "now = time.time()\n",
    "print(now)\n",
    "print(timestamp)\n",
    "print(now - timestamp)"
   ]
  }
 ],
 "metadata": {
  "kernelspec": {
   "display_name": "Python 3 (ipykernel)",
   "language": "python",
   "name": "python3"
  },
  "language_info": {
   "codemirror_mode": {
    "name": "ipython",
    "version": 3
   },
   "file_extension": ".py",
   "mimetype": "text/x-python",
   "name": "python",
   "nbconvert_exporter": "python",
   "pygments_lexer": "ipython3",
   "version": "3.11.4"
  }
 },
 "nbformat": 4,
 "nbformat_minor": 5
}
