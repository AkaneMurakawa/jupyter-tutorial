{
 "cells": [
  {
   "cell_type": "markdown",
   "id": "d553b27e-0082-4757-939c-1187c78bfd6e",
   "metadata": {},
   "source": [
    "## 使用教程\n",
    "http://www.codebaoku.com/jupyter/jupyter-index.html"
   ]
  },
  {
   "cell_type": "markdown",
   "id": "7e7cdee4-0c0e-4e49-a82f-6a1457d329e3",
   "metadata": {},
   "source": [
    "## \"Hello world\" in Python"
   ]
  },
  {
   "cell_type": "markdown",
   "id": "6565ae0f-9273-4cd9-ad5d-f2d987967168",
   "metadata": {},
   "source": [
    "When programmers are learning a new language, we tend to write a one-line program that prints some version of the message \"Hello world!\" this is a simple program that shows whether your computer is properly set up to run Python programs."
   ]
  },
  {
   "cell_type": "code",
   "execution_count": 10,
   "id": "310bd279-5744-4ac4-87e0-4cbaf2023c62",
   "metadata": {
    "execution": {
     "iopub.execute_input": "2023-07-20T09:30:19.401939Z",
     "iopub.status.busy": "2023-07-20T09:30:19.401722Z",
     "iopub.status.idle": "2023-07-20T09:30:19.405442Z",
     "shell.execute_reply": "2023-07-20T09:30:19.404658Z",
     "shell.execute_reply.started": "2023-07-20T09:30:19.401924Z"
    }
   },
   "outputs": [
    {
     "name": "stdout",
     "output_type": "stream",
     "text": [
      "Hello Python world!\n"
     ]
    }
   ],
   "source": [
    "print('Hello Python world!')"
   ]
  },
  {
   "cell_type": "markdown",
   "id": "07d172c4-707a-4a32-aaa0-9e2c2afc1212",
   "metadata": {},
   "source": [
    "## 引入模块"
   ]
  },
  {
   "cell_type": "code",
   "execution_count": 25,
   "id": "7ef2d07e-f85c-4260-9962-c395dc445ea7",
   "metadata": {
    "execution": {
     "iopub.execute_input": "2023-07-21T09:49:33.971268Z",
     "iopub.status.busy": "2023-07-21T09:49:33.970548Z",
     "iopub.status.idle": "2023-07-21T09:49:34.170661Z",
     "shell.execute_reply": "2023-07-21T09:49:34.169933Z",
     "shell.execute_reply.started": "2023-07-21T09:49:33.971249Z"
    }
   },
   "outputs": [
    {
     "data": {
      "image/png": "[encoded data removed]",
      "text/plain": [
       "<Figure size 640x480 with 1 Axes>"
      ]
     },
     "metadata": {},
     "output_type": "display_data"
    }
   ],
   "source": [
    "import numpy as np\n",
    "from matplotlib import pyplot as plt\n",
    "x = np.arange(-10, 10, 0.1)\n",
    "y = x**2\n",
    "plt.plot(x, y)\n",
    "plt.show()"
   ]
  },
  {
   "cell_type": "markdown",
   "id": "0e3c743b-f793-4d82-a60c-3787e56686e1",
   "metadata": {},
   "source": [
    "## 引入本地文件模块"
   ]
  },
  {
   "cell_type": "code",
   "execution_count": 12,
   "id": "c6a3ac36-11c8-43f4-bdd5-01a14441b2a3",
   "metadata": {
    "execution": {
     "iopub.execute_input": "2023-07-20T09:30:19.651916Z",
     "iopub.status.busy": "2023-07-20T09:30:19.651737Z",
     "iopub.status.idle": "2023-07-20T09:30:19.661364Z",
     "shell.execute_reply": "2023-07-20T09:30:19.660590Z",
     "shell.execute_reply.started": "2023-07-20T09:30:19.651900Z"
    }
   },
   "outputs": [
    {
     "name": "stdout",
     "output_type": "stream",
     "text": [
      "Hello World!\n"
     ]
    }
   ],
   "source": [
    "from hello import *\n",
    "hello()"
   ]
  },
  {
   "cell_type": "markdown",
   "id": "e556c184-e48b-40f1-8769-211262a4abda",
   "metadata": {},
   "source": [
    "## 引入notebook\n",
    "通过 %run 调用其他notebook，%load 加载本地文件。以%开头的代码为魔法函数，%run不适用Java。"
   ]
  },
  {
   "cell_type": "code",
   "execution_count": 13,
   "id": "b1754a4c-05bc-4bbd-8e60-93c09d726aea",
   "metadata": {
    "execution": {
     "iopub.execute_input": "2023-07-20T09:30:19.663655Z",
     "iopub.status.busy": "2023-07-20T09:30:19.662794Z",
     "iopub.status.idle": "2023-07-20T09:30:19.775442Z",
     "shell.execute_reply": "2023-07-20T09:30:19.774713Z",
     "shell.execute_reply.started": "2023-07-20T09:30:19.663630Z"
    }
   },
   "outputs": [
    {
     "name": "stdout",
     "output_type": "stream",
     "text": [
      "Hello notebook!\n"
     ]
    }
   ],
   "source": [
    "%run hello.ipynb\n",
    "hello()"
   ]
  },
  {
   "cell_type": "markdown",
   "id": "017a2ded-2e9c-4a13-8722-e3d2a4773737",
   "metadata": {},
   "source": [
    "## 运行python文件\n",
    "%run 不仅可以调用其他notebook，也可以运行python文件"
   ]
  },
  {
   "cell_type": "code",
   "execution_count": 24,
   "id": "13ce31af-c4cf-4039-ade7-b0dd3fc20d70",
   "metadata": {
    "execution": {
     "iopub.execute_input": "2023-07-21T09:48:54.944900Z",
     "iopub.status.busy": "2023-07-21T09:48:54.944644Z",
     "iopub.status.idle": "2023-07-21T09:48:54.954322Z",
     "shell.execute_reply": "2023-07-21T09:48:54.953424Z",
     "shell.execute_reply.started": "2023-07-21T09:48:54.944884Z"
    }
   },
   "outputs": [
    {
     "name": "stdout",
     "output_type": "stream",
     "text": [
      "Hello World!\n"
     ]
    }
   ],
   "source": [
    "%run hello.py\n",
    "hello()"
   ]
  },
  {
   "cell_type": "markdown",
   "id": "e1d9e819-3bd6-4535-bc72-2ede0549db3f",
   "metadata": {},
   "source": [
    "## 系统命令\n",
    "以 ! 开头的命令标识操作系统命令，例如：!dir"
   ]
  },
  {
   "cell_type": "code",
   "execution_count": 30,
   "id": "af0253ac-63dc-4420-9d6a-e362da9034bb",
   "metadata": {
    "execution": {
     "iopub.execute_input": "2023-07-21T09:52:50.316911Z",
     "iopub.status.busy": "2023-07-21T09:52:50.316489Z",
     "iopub.status.idle": "2023-07-21T09:52:50.760929Z",
     "shell.execute_reply": "2023-07-21T09:52:50.760015Z",
     "shell.execute_reply.started": "2023-07-21T09:52:50.316889Z"
    }
   },
   "outputs": [
    {
     "name": "stdout",
     "output_type": "stream",
     "text": [
      "daily_push  hello.ipynb  hello.py  test.ipynb  使用教程.ipynb\n",
      "Hello World\n"
     ]
    }
   ],
   "source": [
    "!dir\n",
    "s = \"Hello World\"\n",
    "!echo $s"
   ]
  },
  {
   "cell_type": "markdown",
   "id": "86e61048-8f04-4e49-b002-ec344346fc1e",
   "metadata": {},
   "source": [
    "## 魔术函数\n",
    "以 % 或 %% 开头的代码为魔法函数"
   ]
  },
  {
   "cell_type": "code",
   "execution_count": 26,
   "id": "fa410d08-abe3-49ba-9f37-f82db5088e16",
   "metadata": {
    "execution": {
     "iopub.execute_input": "2023-07-28T08:48:47.558539Z",
     "iopub.status.busy": "2023-07-28T08:48:47.558286Z",
     "iopub.status.idle": "2023-07-28T08:48:47.790295Z",
     "shell.execute_reply": "2023-07-28T08:48:47.789468Z",
     "shell.execute_reply.started": "2023-07-28T08:48:47.558524Z"
    }
   },
   "outputs": [
    {
     "name": "stdout",
     "output_type": "stream",
     "text": [
      "total 48\n",
      "drwxrwxrwx 1 root    4096 Jul 21 03:39 \u001b[0m\u001b[34;42mdaily_push\u001b[0m/\n",
      "-rw-r--r-- 1 jovyan  1002 Jul 20 09:47 hello.ipynb\n",
      "-rw-r--r-- 1 jovyan    38 Jul 20 06:40 hello.py\n",
      "-rw-r--r-- 1 jovyan  2549 Jul 28 07:22 test.ipynb\n",
      "-rw-r--r-- 1 jovyan 37224 Jul 28 08:48 使用教程.ipynb\n",
      "Using matplotlib backend: agg\n"
     ]
    }
   ],
   "source": [
    "%pwd\n",
    "%ll\n",
    "%env\n",
    "%matplotlib"
   ]
  },
  {
   "cell_type": "code",
   "execution_count": 22,
   "id": "f5e69991-9f79-4e1c-9cb7-547a589d5ec2",
   "metadata": {
    "execution": {
     "iopub.execute_input": "2023-07-28T08:47:40.831807Z",
     "iopub.status.busy": "2023-07-28T08:47:40.831568Z",
     "iopub.status.idle": "2023-07-28T08:47:40.837625Z",
     "shell.execute_reply": "2023-07-28T08:47:40.836573Z",
     "shell.execute_reply.started": "2023-07-28T08:47:40.831789Z"
    }
   },
   "outputs": [
    {
     "data": {
      "text/html": [
       "<font size=6 color='blue'>Hello Jupyter</font>\n"
      ],
      "text/plain": [
       "<IPython.core.display.HTML object>"
      ]
     },
     "metadata": {},
     "output_type": "display_data"
    }
   ],
   "source": [
    "%%html\n",
    "<font size=6 color='blue'>Hello Jupyter</font>"
   ]
  },
  {
   "cell_type": "code",
   "execution_count": 27,
   "id": "d1ed38dd-a91c-422e-b75b-0ee3c99e92ab",
   "metadata": {
    "execution": {
     "iopub.execute_input": "2023-07-28T08:49:57.497059Z",
     "iopub.status.busy": "2023-07-28T08:49:57.496567Z",
     "iopub.status.idle": "2023-07-28T08:49:57.502321Z",
     "shell.execute_reply": "2023-07-28T08:49:57.501428Z",
     "shell.execute_reply.started": "2023-07-28T08:49:57.497042Z"
    }
   },
   "outputs": [
    {
     "data": {
      "application/javascript": [
       "function add(x, y)\n",
       "{\n",
       "    alert(\"x + y = \" + (x + y))\n",
       "}\n",
       "add(1, 2);\n"
      ],
      "text/plain": [
       "<IPython.core.display.Javascript object>"
      ]
     },
     "metadata": {},
     "output_type": "display_data"
    }
   ],
   "source": [
    "%%js\n",
    "function add(x, y)\n",
    "{\n",
    "    alert(\"x + y = \" + (x + y))\n",
    "}\n",
    "add(1, 2);"
   ]
  },
  {
   "cell_type": "markdown",
   "id": "af61974c-eb9c-4edf-8870-9b293d079ac7",
   "metadata": {},
   "source": [
    "## 绘图\n",
    "Jupyter内置了**matplotlib**库，通过 %matplotlib 魔术函数便可引用"
   ]
  },
  {
   "cell_type": "code",
   "execution_count": 29,
   "id": "dd98728a-03e9-46ad-a89d-38d5a6ad503f",
   "metadata": {
    "execution": {
     "iopub.execute_input": "2023-07-28T08:55:44.417049Z",
     "iopub.status.busy": "2023-07-28T08:55:44.416487Z",
     "iopub.status.idle": "2023-07-28T08:55:44.571462Z",
     "shell.execute_reply": "2023-07-28T08:55:44.570672Z",
     "shell.execute_reply.started": "2023-07-28T08:55:44.417028Z"
    }
   },
   "outputs": [
    {
     "data": {
      "image/png": "[encoded data removed]",
      "text/plain": [
       "<Figure size 640x480 with 1 Axes>"
      ]
     },
     "metadata": {},
     "output_type": "display_data"
    }
   ],
   "source": [
    "from matplotlib import pyplot as plt\n",
    "import numpy as np\n",
    "import math\n",
    "\n",
    "%matplotlib inline\n",
    "x = np.arange(0, math.pi *2, 0.02)\n",
    "y = np.sin(x)\n",
    "fig = plt.figure()\n",
    "ax = fig.add_axes([0, 0, 1, 1])\n",
    "ax.plot(x, y)\n",
    "ax.set_title(\"sine wave\")\n",
    "ax.set_xlabel(\"angle\")\n",
    "ax.set_ylabel(\"sine\")\n",
    "\n",
    "plt.show()"
   ]
  }
 ],
 "metadata": {
  "kernelspec": {
   "display_name": "Python 3 (ipykernel)",
   "language": "python",
   "name": "python3"
  },
  "language_info": {
   "codemirror_mode": {
    "name": "ipython",
    "version": 3
   },
   "file_extension": ".py",
   "mimetype": "text/x-python",
   "name": "python",
   "nbconvert_exporter": "python",
   "pygments_lexer": "ipython3",
   "version": "3.11.4"
  }
 },
 "nbformat": 4,
 "nbformat_minor": 5
}
