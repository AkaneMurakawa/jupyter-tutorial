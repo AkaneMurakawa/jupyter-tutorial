{
 "cells": [
  {
   "cell_type": "markdown",
   "id": "d553b27e-0082-4757-939c-1187c78bfd6e",
   "metadata": {},
   "source": [
    "## 使用教程\n"
   ]
  },
  {
   "cell_type": "markdown",
   "id": "7e7cdee4-0c0e-4e49-a82f-6a1457d329e3",
   "metadata": {},
   "source": [
    "## \"Hello world\" in Python"
   ]
  },
  {
   "cell_type": "markdown",
   "id": "6565ae0f-9273-4cd9-ad5d-f2d987967168",
   "metadata": {},
   "source": [
    "When programmers are learning a new language, we tend to write a one-line program that prints some version of the message \"Hello world!\" this is a simple program that shows whether your computer is properly set up to run Python programs."
   ]
  },
  {
   "cell_type": "code",
   "execution_count": 10,
   "id": "310bd279-5744-4ac4-87e0-4cbaf2023c62",
   "metadata": {
    "execution": {
     "iopub.execute_input": "2023-07-20T09:30:19.401939Z",
     "iopub.status.busy": "2023-07-20T09:30:19.401722Z",
     "iopub.status.idle": "2023-07-20T09:30:19.405442Z",
     "shell.execute_reply": "2023-07-20T09:30:19.404658Z",
     "shell.execute_reply.started": "2023-07-20T09:30:19.401924Z"
    }
   },
   "outputs": [
    {
     "name": "stdout",
     "output_type": "stream",
     "text": [
      "Hello Python world!\n"
     ]
    }
   ],
   "source": [
    "print('Hello Python world!')"
   ]
  },
  {
   "cell_type": "markdown",
   "id": "07d172c4-707a-4a32-aaa0-9e2c2afc1212",
   "metadata": {},
   "source": [
    "## 引入模块"
   ]
  },
  {
   "cell_type": "markdown",
   "id": "9e3a081f-4eb7-47fc-8342-f1ba75a5c07b",
   "metadata": {
    "execution": {
     "iopub.execute_input": "2023-07-20T09:30:19.407382Z",
     "iopub.status.busy": "2023-07-20T09:30:19.406936Z",
     "iopub.status.idle": "2023-07-20T09:30:19.650897Z",
     "shell.execute_reply": "2023-07-20T09:30:19.649909Z",
     "shell.execute_reply.started": "2023-07-20T09:30:19.407362Z"
    }
   },
   "source": [
    "import numpy as np\n",
    "from matplotlib import pyplot as plt\n",
    "x = np.arange(-10, 10, 0.1)\n",
    "y = x**2\n",
    "plt.plot(x, y)\n",
    "plt.show()"
   ]
  },
  {
   "cell_type": "markdown",
   "id": "0e3c743b-f793-4d82-a60c-3787e56686e1",
   "metadata": {},
   "source": [
    "## 引入本地文件模块"
   ]
  },
  {
   "cell_type": "code",
   "execution_count": 12,
   "id": "c6a3ac36-11c8-43f4-bdd5-01a14441b2a3",
   "metadata": {
    "execution": {
     "iopub.execute_input": "2023-07-20T09:30:19.651916Z",
     "iopub.status.busy": "2023-07-20T09:30:19.651737Z",
     "iopub.status.idle": "2023-07-20T09:30:19.661364Z",
     "shell.execute_reply": "2023-07-20T09:30:19.660590Z",
     "shell.execute_reply.started": "2023-07-20T09:30:19.651900Z"
    }
   },
   "outputs": [
    {
     "name": "stdout",
     "output_type": "stream",
     "text": [
      "Hello World!\n"
     ]
    }
   ],
   "source": [
    "from hello import *\n",
    "hello()"
   ]
  },
  {
   "cell_type": "markdown",
   "id": "e556c184-e48b-40f1-8769-211262a4abda",
   "metadata": {},
   "source": [
    "## 引入notebook\n",
    "通过 %run 调用其他notebook，%load 加载本地文件。以%开头的代码为魔法函数，%run不适用Java。"
   ]
  },
  {
   "cell_type": "code",
   "execution_count": 13,
   "id": "b1754a4c-05bc-4bbd-8e60-93c09d726aea",
   "metadata": {
    "execution": {
     "iopub.execute_input": "2023-07-20T09:30:19.663655Z",
     "iopub.status.busy": "2023-07-20T09:30:19.662794Z",
     "iopub.status.idle": "2023-07-20T09:30:19.775442Z",
     "shell.execute_reply": "2023-07-20T09:30:19.774713Z",
     "shell.execute_reply.started": "2023-07-20T09:30:19.663630Z"
    }
   },
   "outputs": [
    {
     "name": "stdout",
     "output_type": "stream",
     "text": [
      "Hello notebook!\n"
     ]
    }
   ],
   "source": [
    "%run hello.ipynb\n",
    "hello()"
   ]
  },
  {
   "cell_type": "markdown",
   "id": "90bdc8ff-1eb8-424a-972f-37386363f1ad",
   "metadata": {},
   "source": [
    "内容1"
   ]
  }
 ],
 "metadata": {
  "kernelspec": {
   "display_name": "Python 3 (ipykernel)",
   "language": "python",
   "name": "python3"
  },
  "language_info": {
   "codemirror_mode": {
    "name": "ipython",
    "version": 3
   },
   "file_extension": ".py",
   "mimetype": "text/x-python",
   "name": "python",
   "nbconvert_exporter": "python",
   "pygments_lexer": "ipython3",
   "version": "3.11.4"
  }
 },
 "nbformat": 4,
 "nbformat_minor": 5
}
